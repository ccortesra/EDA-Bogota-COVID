{
 "cells": [
  {
   "cell_type": "markdown",
   "metadata": {
    "id": "OaSOlfrwgsY2"
   },
   "source": [
    "# **Casos confirmados de COVID-19 en Bogotá D.C.**\n",
    "\n",
    "**Exploratory Data Analysis Project by Carlos Alberto Cortés Ramírez**\n",
    "\n",
    "Permite conocer la evolución del número de casos confirmados con nuevo coronavirus COVID-19 en el contexto de la pandemia.\n",
    "\n",
    "Secretaría Distrital de Salud.\n",
    "\n",
    "https://datosabiertos.bogota.gov.co/dataset/numero-de-casos-confirmados-por-el-laboratorio-de-covid-19-bogota-d-c/resource/b64ba3c4-9e41-41b8-b3fd-2da21d627558"
   ]
  },
  {
   "cell_type": "markdown",
   "metadata": {
    "id": "HT4CZw6jiZqa"
   },
   "source": [
    "# **Importando Datos**\n",
    "\n",
    "Se intentó importar datos vía API, sin embargo se detectaron varios errores en la documentación y los links solo daban de a 100 registros, lo cual hace la tarea muy ineficiente. Por lo cual se hará descargando el archivo .csv. De manera anecdotica se deja como sería sacar los datos desde la API\n",
    "\n",
    "\n",
    "\n",
    "\n",
    "```python\n",
    "url = 'https://datosabiertos.bogota.gov.co/api/3/action/datastore_search?resource_id=b64ba3c4-9e41-41b8-b3fd-2da21d627558'  \n",
    "fileobj = urllib.request.urlopen(url)\n",
    "data = fileobj.read().decode('utf-8')\n",
    "parsed_data = json.loads(data)\n",
    "df = pd.DataFrame(parsed_data[\"result\"][\"records\"])\n",
    "next_records = parsed_data[\"result\"][\"_links\"][\"next\"]\n",
    "\n",
    "urllib.request.urlopen('https://datosabiertos.bogota.gov.co'+next_records)\n",
    "```\n",
    "\n"
   ]
  },
  {
   "cell_type": "code",
   "execution_count": 1,
   "metadata": {
    "id": "zzB-zqhQjNME"
   },
   "outputs": [],
   "source": [
    "import numpy as np # linear algebra\n",
    "import pandas as pd # data processing, CSV file I/O (e.g. pd.read_csv)\n",
    "import seaborn as sns \n",
    "import matplotlib.pyplot as plt\n",
    "import altair as alt\n",
    "import plotly.express as px\n",
    "import scipy.stats as ss\n",
    "import geopandas as gpd"
   ]
  },
  {
   "cell_type": "markdown",
   "metadata": {
    "id": "CBWM0R9qHIOW"
   },
   "source": [
    "Familiarizandose con la Data"
   ]
  },
  {
   "cell_type": "code",
   "execution_count": 2,
   "metadata": {
    "id": "c8q3vJ68fITU"
   },
   "outputs": [],
   "source": [
    "\n",
    "df = pd.read_csv('osb_enftransm-covid-19_20230329.csv', encoding = 'utf-8',  sep=',')\n",
    "\n",
    "# There is a error trying to import the data in a default way\n",
    "# ParserError: Error tokenizing data. C error: Expected 1 fields in line 845266, saw 3\n",
    "# the default separator"
   ]
  },
  {
   "cell_type": "code",
   "execution_count": 3,
   "metadata": {
    "colab": {
     "base_uri": "https://localhost:8080/",
     "height": 206
    },
    "id": "sGHJ51tTgpqS",
    "outputId": "50d10e77-5dd4-4674-dbcb-aff13612907d"
   },
   "outputs": [
    {
     "data": {
      "text/html": [
       "<div>\n",
       "<style scoped>\n",
       "    .dataframe tbody tr th:only-of-type {\n",
       "        vertical-align: middle;\n",
       "    }\n",
       "\n",
       "    .dataframe tbody tr th {\n",
       "        vertical-align: top;\n",
       "    }\n",
       "\n",
       "    .dataframe thead th {\n",
       "        text-align: right;\n",
       "    }\n",
       "</style>\n",
       "<table border=\"1\" class=\"dataframe\">\n",
       "  <thead>\n",
       "    <tr style=\"text-align: right;\">\n",
       "      <th></th>\n",
       "      <th>CASO</th>\n",
       "      <th>FECHA_DE_INICIO_DE_SINTOMAS</th>\n",
       "      <th>FECHA_DIAGNOSTICO</th>\n",
       "      <th>CIUDAD</th>\n",
       "      <th>LOCALIDAD_ASIS</th>\n",
       "      <th>EDAD</th>\n",
       "      <th>UNI_MED</th>\n",
       "      <th>SEXO</th>\n",
       "      <th>FUENTE_O_TIPO_DE_CONTAGIO</th>\n",
       "      <th>UBICACION</th>\n",
       "      <th>ESTADO</th>\n",
       "    </tr>\n",
       "  </thead>\n",
       "  <tbody>\n",
       "    <tr>\n",
       "      <th>0</th>\n",
       "      <td>1</td>\n",
       "      <td>2020-02-26</td>\n",
       "      <td>2020-03-06</td>\n",
       "      <td>Bogotá</td>\n",
       "      <td>Usaquén</td>\n",
       "      <td>19</td>\n",
       "      <td>1</td>\n",
       "      <td>F</td>\n",
       "      <td>Importado</td>\n",
       "      <td>Casa</td>\n",
       "      <td>Recuperado</td>\n",
       "    </tr>\n",
       "    <tr>\n",
       "      <th>1</th>\n",
       "      <td>2</td>\n",
       "      <td>2020-03-04</td>\n",
       "      <td>2020-03-10</td>\n",
       "      <td>Bogotá</td>\n",
       "      <td>Engativá</td>\n",
       "      <td>22</td>\n",
       "      <td>1</td>\n",
       "      <td>F</td>\n",
       "      <td>Importado</td>\n",
       "      <td>Casa</td>\n",
       "      <td>Recuperado</td>\n",
       "    </tr>\n",
       "    <tr>\n",
       "      <th>2</th>\n",
       "      <td>3</td>\n",
       "      <td>2020-03-07</td>\n",
       "      <td>2020-03-10</td>\n",
       "      <td>Bogotá</td>\n",
       "      <td>Engativá</td>\n",
       "      <td>28</td>\n",
       "      <td>1</td>\n",
       "      <td>F</td>\n",
       "      <td>Importado</td>\n",
       "      <td>Casa</td>\n",
       "      <td>Recuperado</td>\n",
       "    </tr>\n",
       "    <tr>\n",
       "      <th>3</th>\n",
       "      <td>4</td>\n",
       "      <td>2020-03-06</td>\n",
       "      <td>2020-03-12</td>\n",
       "      <td>Bogotá</td>\n",
       "      <td>Fontibón</td>\n",
       "      <td>36</td>\n",
       "      <td>1</td>\n",
       "      <td>F</td>\n",
       "      <td>Importado</td>\n",
       "      <td>Casa</td>\n",
       "      <td>Recuperado</td>\n",
       "    </tr>\n",
       "    <tr>\n",
       "      <th>4</th>\n",
       "      <td>5</td>\n",
       "      <td>2020-03-06</td>\n",
       "      <td>2020-03-12</td>\n",
       "      <td>Bogotá</td>\n",
       "      <td>Kennedy</td>\n",
       "      <td>42</td>\n",
       "      <td>1</td>\n",
       "      <td>F</td>\n",
       "      <td>Importado</td>\n",
       "      <td>Casa</td>\n",
       "      <td>Recuperado</td>\n",
       "    </tr>\n",
       "  </tbody>\n",
       "</table>\n",
       "</div>"
      ],
      "text/plain": [
       "   CASO FECHA_DE_INICIO_DE_SINTOMAS FECHA_DIAGNOSTICO  CIUDAD LOCALIDAD_ASIS  \\\n",
       "0     1                  2020-02-26        2020-03-06  Bogotá        Usaquén   \n",
       "1     2                  2020-03-04        2020-03-10  Bogotá       Engativá   \n",
       "2     3                  2020-03-07        2020-03-10  Bogotá       Engativá   \n",
       "3     4                  2020-03-06        2020-03-12  Bogotá       Fontibón   \n",
       "4     5                  2020-03-06        2020-03-12  Bogotá        Kennedy   \n",
       "\n",
       "   EDAD  UNI_MED SEXO FUENTE_O_TIPO_DE_CONTAGIO UBICACION      ESTADO  \n",
       "0    19        1    F                 Importado      Casa  Recuperado  \n",
       "1    22        1    F                 Importado      Casa  Recuperado  \n",
       "2    28        1    F                 Importado      Casa  Recuperado  \n",
       "3    36        1    F                 Importado      Casa  Recuperado  \n",
       "4    42        1    F                 Importado      Casa  Recuperado  "
      ]
     },
     "execution_count": 3,
     "metadata": {},
     "output_type": "execute_result"
    }
   ],
   "source": [
    "df.head()"
   ]
  },
  {
   "cell_type": "code",
   "execution_count": 4,
   "metadata": {
    "colab": {
     "base_uri": "https://localhost:8080/"
    },
    "id": "4nN9kGjLjU_B",
    "outputId": "cd16decf-cd42-41fd-ddb3-8aef7060b590"
   },
   "outputs": [
    {
     "data": {
      "text/plain": [
       "(1876297, 11)"
      ]
     },
     "execution_count": 4,
     "metadata": {},
     "output_type": "execute_result"
    }
   ],
   "source": [
    "df.shape"
   ]
  },
  {
   "cell_type": "code",
   "execution_count": 5,
   "metadata": {
    "colab": {
     "base_uri": "https://localhost:8080/"
    },
    "id": "oESG2xF0Hb79",
    "outputId": "714526de-2f81-46ee-c94c-e312ab18af5a"
   },
   "outputs": [
    {
     "data": {
      "text/plain": [
       "Index(['CASO', 'FECHA_DE_INICIO_DE_SINTOMAS', 'FECHA_DIAGNOSTICO', 'CIUDAD',\n",
       "       'LOCALIDAD_ASIS', 'EDAD', 'UNI_MED', 'SEXO',\n",
       "       'FUENTE_O_TIPO_DE_CONTAGIO', 'UBICACION', 'ESTADO'],\n",
       "      dtype='object')"
      ]
     },
     "execution_count": 5,
     "metadata": {},
     "output_type": "execute_result"
    }
   ],
   "source": [
    "df.columns"
   ]
  },
  {
   "cell_type": "code",
   "execution_count": 6,
   "metadata": {
    "colab": {
     "base_uri": "https://localhost:8080/"
    },
    "id": "Y5t1t6iGHjU8",
    "outputId": "42b11159-0802-4800-ae00-b736ef39165d"
   },
   "outputs": [
    {
     "name": "stdout",
     "output_type": "stream",
     "text": [
      "<class 'pandas.core.frame.DataFrame'>\n",
      "RangeIndex: 1876297 entries, 0 to 1876296\n",
      "Data columns (total 11 columns):\n",
      " #   Column                       Dtype \n",
      "---  ------                       ----- \n",
      " 0   CASO                         int64 \n",
      " 1   FECHA_DE_INICIO_DE_SINTOMAS  object\n",
      " 2   FECHA_DIAGNOSTICO            object\n",
      " 3   CIUDAD                       object\n",
      " 4   LOCALIDAD_ASIS               object\n",
      " 5   EDAD                         int64 \n",
      " 6   UNI_MED                      int64 \n",
      " 7   SEXO                         object\n",
      " 8   FUENTE_O_TIPO_DE_CONTAGIO    object\n",
      " 9   UBICACION                    object\n",
      " 10  ESTADO                       object\n",
      "dtypes: int64(3), object(8)\n",
      "memory usage: 157.5+ MB\n"
     ]
    }
   ],
   "source": [
    "df.info()"
   ]
  },
  {
   "cell_type": "code",
   "execution_count": 7,
   "metadata": {
    "colab": {
     "base_uri": "https://localhost:8080/",
     "height": 300
    },
    "id": "xHe4y_BCJeCF",
    "outputId": "2d6d6e96-98c8-4bce-e288-bfa6244009ee"
   },
   "outputs": [
    {
     "data": {
      "text/html": [
       "<div>\n",
       "<style scoped>\n",
       "    .dataframe tbody tr th:only-of-type {\n",
       "        vertical-align: middle;\n",
       "    }\n",
       "\n",
       "    .dataframe tbody tr th {\n",
       "        vertical-align: top;\n",
       "    }\n",
       "\n",
       "    .dataframe thead th {\n",
       "        text-align: right;\n",
       "    }\n",
       "</style>\n",
       "<table border=\"1\" class=\"dataframe\">\n",
       "  <thead>\n",
       "    <tr style=\"text-align: right;\">\n",
       "      <th></th>\n",
       "      <th>CASO</th>\n",
       "      <th>EDAD</th>\n",
       "      <th>UNI_MED</th>\n",
       "    </tr>\n",
       "  </thead>\n",
       "  <tbody>\n",
       "    <tr>\n",
       "      <th>count</th>\n",
       "      <td>1.876297e+06</td>\n",
       "      <td>1.876297e+06</td>\n",
       "      <td>1.876297e+06</td>\n",
       "    </tr>\n",
       "    <tr>\n",
       "      <th>mean</th>\n",
       "      <td>9.381490e+05</td>\n",
       "      <td>3.920477e+01</td>\n",
       "      <td>1.005343e+00</td>\n",
       "    </tr>\n",
       "    <tr>\n",
       "      <th>std</th>\n",
       "      <td>5.416404e+05</td>\n",
       "      <td>1.821313e+01</td>\n",
       "      <td>7.754102e-02</td>\n",
       "    </tr>\n",
       "    <tr>\n",
       "      <th>min</th>\n",
       "      <td>1.000000e+00</td>\n",
       "      <td>1.000000e+00</td>\n",
       "      <td>1.000000e+00</td>\n",
       "    </tr>\n",
       "    <tr>\n",
       "      <th>25%</th>\n",
       "      <td>4.690750e+05</td>\n",
       "      <td>2.600000e+01</td>\n",
       "      <td>1.000000e+00</td>\n",
       "    </tr>\n",
       "    <tr>\n",
       "      <th>50%</th>\n",
       "      <td>9.381490e+05</td>\n",
       "      <td>3.700000e+01</td>\n",
       "      <td>1.000000e+00</td>\n",
       "    </tr>\n",
       "    <tr>\n",
       "      <th>75%</th>\n",
       "      <td>1.407223e+06</td>\n",
       "      <td>5.200000e+01</td>\n",
       "      <td>1.000000e+00</td>\n",
       "    </tr>\n",
       "    <tr>\n",
       "      <th>max</th>\n",
       "      <td>1.876297e+06</td>\n",
       "      <td>1.190000e+02</td>\n",
       "      <td>3.000000e+00</td>\n",
       "    </tr>\n",
       "  </tbody>\n",
       "</table>\n",
       "</div>"
      ],
      "text/plain": [
       "               CASO          EDAD       UNI_MED\n",
       "count  1.876297e+06  1.876297e+06  1.876297e+06\n",
       "mean   9.381490e+05  3.920477e+01  1.005343e+00\n",
       "std    5.416404e+05  1.821313e+01  7.754102e-02\n",
       "min    1.000000e+00  1.000000e+00  1.000000e+00\n",
       "25%    4.690750e+05  2.600000e+01  1.000000e+00\n",
       "50%    9.381490e+05  3.700000e+01  1.000000e+00\n",
       "75%    1.407223e+06  5.200000e+01  1.000000e+00\n",
       "max    1.876297e+06  1.190000e+02  3.000000e+00"
      ]
     },
     "execution_count": 7,
     "metadata": {},
     "output_type": "execute_result"
    }
   ],
   "source": [
    "df.describe()"
   ]
  },
  {
   "cell_type": "code",
   "execution_count": null,
   "metadata": {
    "id": "YlQNX7OQNPLv"
   },
   "outputs": [],
   "source": []
  },
  {
   "cell_type": "markdown",
   "metadata": {
    "id": "u9w77VtLH7Pv"
   },
   "source": [
    "# **Data Cleaning**"
   ]
  },
  {
   "cell_type": "code",
   "execution_count": 8,
   "metadata": {
    "colab": {
     "base_uri": "https://localhost:8080/",
     "height": 423
    },
    "id": "oGawN-ssHkx9",
    "outputId": "39dda0fb-bb85-4283-92aa-04a7ff36bbe9"
   },
   "outputs": [
    {
     "data": {
      "text/html": [
       "<div>\n",
       "<style scoped>\n",
       "    .dataframe tbody tr th:only-of-type {\n",
       "        vertical-align: middle;\n",
       "    }\n",
       "\n",
       "    .dataframe tbody tr th {\n",
       "        vertical-align: top;\n",
       "    }\n",
       "\n",
       "    .dataframe thead th {\n",
       "        text-align: right;\n",
       "    }\n",
       "</style>\n",
       "<table border=\"1\" class=\"dataframe\">\n",
       "  <thead>\n",
       "    <tr style=\"text-align: right;\">\n",
       "      <th></th>\n",
       "      <th>CASO</th>\n",
       "      <th>FECHA_DE_INICIO_DE_SINTOMAS</th>\n",
       "      <th>FECHA_DIAGNOSTICO</th>\n",
       "      <th>CIUDAD</th>\n",
       "      <th>LOCALIDAD_ASIS</th>\n",
       "      <th>EDAD</th>\n",
       "      <th>UNI_MED</th>\n",
       "      <th>SEXO</th>\n",
       "      <th>FUENTE_O_TIPO_DE_CONTAGIO</th>\n",
       "      <th>UBICACION</th>\n",
       "      <th>ESTADO</th>\n",
       "    </tr>\n",
       "  </thead>\n",
       "  <tbody>\n",
       "    <tr>\n",
       "      <th>0</th>\n",
       "      <td>1</td>\n",
       "      <td>2020-02-26</td>\n",
       "      <td>2020-03-06</td>\n",
       "      <td>Bogotá</td>\n",
       "      <td>Usaquén</td>\n",
       "      <td>19</td>\n",
       "      <td>1</td>\n",
       "      <td>F</td>\n",
       "      <td>Importado</td>\n",
       "      <td>Casa</td>\n",
       "      <td>Recuperado</td>\n",
       "    </tr>\n",
       "    <tr>\n",
       "      <th>1</th>\n",
       "      <td>2</td>\n",
       "      <td>2020-03-04</td>\n",
       "      <td>2020-03-10</td>\n",
       "      <td>Bogotá</td>\n",
       "      <td>Engativá</td>\n",
       "      <td>22</td>\n",
       "      <td>1</td>\n",
       "      <td>F</td>\n",
       "      <td>Importado</td>\n",
       "      <td>Casa</td>\n",
       "      <td>Recuperado</td>\n",
       "    </tr>\n",
       "    <tr>\n",
       "      <th>2</th>\n",
       "      <td>3</td>\n",
       "      <td>2020-03-07</td>\n",
       "      <td>2020-03-10</td>\n",
       "      <td>Bogotá</td>\n",
       "      <td>Engativá</td>\n",
       "      <td>28</td>\n",
       "      <td>1</td>\n",
       "      <td>F</td>\n",
       "      <td>Importado</td>\n",
       "      <td>Casa</td>\n",
       "      <td>Recuperado</td>\n",
       "    </tr>\n",
       "    <tr>\n",
       "      <th>3</th>\n",
       "      <td>4</td>\n",
       "      <td>2020-03-06</td>\n",
       "      <td>2020-03-12</td>\n",
       "      <td>Bogotá</td>\n",
       "      <td>Fontibón</td>\n",
       "      <td>36</td>\n",
       "      <td>1</td>\n",
       "      <td>F</td>\n",
       "      <td>Importado</td>\n",
       "      <td>Casa</td>\n",
       "      <td>Recuperado</td>\n",
       "    </tr>\n",
       "    <tr>\n",
       "      <th>4</th>\n",
       "      <td>5</td>\n",
       "      <td>2020-03-06</td>\n",
       "      <td>2020-03-12</td>\n",
       "      <td>Bogotá</td>\n",
       "      <td>Kennedy</td>\n",
       "      <td>42</td>\n",
       "      <td>1</td>\n",
       "      <td>F</td>\n",
       "      <td>Importado</td>\n",
       "      <td>Casa</td>\n",
       "      <td>Recuperado</td>\n",
       "    </tr>\n",
       "    <tr>\n",
       "      <th>...</th>\n",
       "      <td>...</td>\n",
       "      <td>...</td>\n",
       "      <td>...</td>\n",
       "      <td>...</td>\n",
       "      <td>...</td>\n",
       "      <td>...</td>\n",
       "      <td>...</td>\n",
       "      <td>...</td>\n",
       "      <td>...</td>\n",
       "      <td>...</td>\n",
       "      <td>...</td>\n",
       "    </tr>\n",
       "    <tr>\n",
       "      <th>1876292</th>\n",
       "      <td>1876293</td>\n",
       "      <td>NaN</td>\n",
       "      <td>2023-03-25</td>\n",
       "      <td>Sin dato</td>\n",
       "      <td>Sin dato</td>\n",
       "      <td>34</td>\n",
       "      <td>1</td>\n",
       "      <td>F</td>\n",
       "      <td>Comunitaria</td>\n",
       "      <td>Casa</td>\n",
       "      <td>Leve</td>\n",
       "    </tr>\n",
       "    <tr>\n",
       "      <th>1876293</th>\n",
       "      <td>1876294</td>\n",
       "      <td>NaN</td>\n",
       "      <td>2023-03-25</td>\n",
       "      <td>Sin dato</td>\n",
       "      <td>Sin dato</td>\n",
       "      <td>58</td>\n",
       "      <td>1</td>\n",
       "      <td>F</td>\n",
       "      <td>Comunitaria</td>\n",
       "      <td>Casa</td>\n",
       "      <td>Leve</td>\n",
       "    </tr>\n",
       "    <tr>\n",
       "      <th>1876294</th>\n",
       "      <td>1876295</td>\n",
       "      <td>NaN</td>\n",
       "      <td>2023-03-25</td>\n",
       "      <td>Sin dato</td>\n",
       "      <td>Sin dato</td>\n",
       "      <td>82</td>\n",
       "      <td>1</td>\n",
       "      <td>F</td>\n",
       "      <td>Comunitaria</td>\n",
       "      <td>Casa</td>\n",
       "      <td>Leve</td>\n",
       "    </tr>\n",
       "    <tr>\n",
       "      <th>1876295</th>\n",
       "      <td>1876296</td>\n",
       "      <td>NaN</td>\n",
       "      <td>2023-03-25</td>\n",
       "      <td>Sin dato</td>\n",
       "      <td>Sin dato</td>\n",
       "      <td>58</td>\n",
       "      <td>1</td>\n",
       "      <td>F</td>\n",
       "      <td>Comunitaria</td>\n",
       "      <td>Casa</td>\n",
       "      <td>Leve</td>\n",
       "    </tr>\n",
       "    <tr>\n",
       "      <th>1876296</th>\n",
       "      <td>1876297</td>\n",
       "      <td>NaN</td>\n",
       "      <td>2023-03-25</td>\n",
       "      <td>Sin dato</td>\n",
       "      <td>Sin dato</td>\n",
       "      <td>36</td>\n",
       "      <td>1</td>\n",
       "      <td>M</td>\n",
       "      <td>Comunitaria</td>\n",
       "      <td>Casa</td>\n",
       "      <td>Leve</td>\n",
       "    </tr>\n",
       "  </tbody>\n",
       "</table>\n",
       "<p>1876297 rows × 11 columns</p>\n",
       "</div>"
      ],
      "text/plain": [
       "            CASO FECHA_DE_INICIO_DE_SINTOMAS FECHA_DIAGNOSTICO    CIUDAD  \\\n",
       "0              1                  2020-02-26        2020-03-06    Bogotá   \n",
       "1              2                  2020-03-04        2020-03-10    Bogotá   \n",
       "2              3                  2020-03-07        2020-03-10    Bogotá   \n",
       "3              4                  2020-03-06        2020-03-12    Bogotá   \n",
       "4              5                  2020-03-06        2020-03-12    Bogotá   \n",
       "...          ...                         ...               ...       ...   \n",
       "1876292  1876293                         NaN        2023-03-25  Sin dato   \n",
       "1876293  1876294                         NaN        2023-03-25  Sin dato   \n",
       "1876294  1876295                         NaN        2023-03-25  Sin dato   \n",
       "1876295  1876296                         NaN        2023-03-25  Sin dato   \n",
       "1876296  1876297                         NaN        2023-03-25  Sin dato   \n",
       "\n",
       "        LOCALIDAD_ASIS  EDAD  UNI_MED SEXO FUENTE_O_TIPO_DE_CONTAGIO  \\\n",
       "0              Usaquén    19        1    F                 Importado   \n",
       "1             Engativá    22        1    F                 Importado   \n",
       "2             Engativá    28        1    F                 Importado   \n",
       "3             Fontibón    36        1    F                 Importado   \n",
       "4              Kennedy    42        1    F                 Importado   \n",
       "...                ...   ...      ...  ...                       ...   \n",
       "1876292       Sin dato    34        1    F               Comunitaria   \n",
       "1876293       Sin dato    58        1    F               Comunitaria   \n",
       "1876294       Sin dato    82        1    F               Comunitaria   \n",
       "1876295       Sin dato    58        1    F               Comunitaria   \n",
       "1876296       Sin dato    36        1    M               Comunitaria   \n",
       "\n",
       "        UBICACION      ESTADO  \n",
       "0            Casa  Recuperado  \n",
       "1            Casa  Recuperado  \n",
       "2            Casa  Recuperado  \n",
       "3            Casa  Recuperado  \n",
       "4            Casa  Recuperado  \n",
       "...           ...         ...  \n",
       "1876292      Casa        Leve  \n",
       "1876293      Casa        Leve  \n",
       "1876294      Casa        Leve  \n",
       "1876295      Casa        Leve  \n",
       "1876296      Casa        Leve  \n",
       "\n",
       "[1876297 rows x 11 columns]"
      ]
     },
     "execution_count": 8,
     "metadata": {},
     "output_type": "execute_result"
    }
   ],
   "source": [
    "df[df.columns]"
   ]
  },
  {
   "cell_type": "code",
   "execution_count": 9,
   "metadata": {
    "colab": {
     "base_uri": "https://localhost:8080/"
    },
    "id": "tkn-bQ0aIFWN",
    "outputId": "87167094-a808-43de-83a7-1fb8a159fc02"
   },
   "outputs": [
    {
     "data": {
      "text/plain": [
       "CASO                           0.000000\n",
       "FECHA_DE_INICIO_DE_SINTOMAS    0.254578\n",
       "FECHA_DIAGNOSTICO              0.000000\n",
       "CIUDAD                         0.000000\n",
       "LOCALIDAD_ASIS                 0.000000\n",
       "EDAD                           0.000000\n",
       "UNI_MED                        0.000000\n",
       "SEXO                           0.000000\n",
       "FUENTE_O_TIPO_DE_CONTAGIO      0.000000\n",
       "UBICACION                      0.000000\n",
       "ESTADO                         0.000000\n",
       "dtype: float64"
      ]
     },
     "execution_count": 9,
     "metadata": {},
     "output_type": "execute_result"
    }
   ],
   "source": [
    "df.isna().sum(axis=0)/len(df)"
   ]
  },
  {
   "cell_type": "markdown",
   "metadata": {
    "id": "M0-qDDrcLmLs"
   },
   "source": [
    "# Descartando columna de fecha de inicio de sintomas"
   ]
  },
  {
   "cell_type": "markdown",
   "metadata": {
    "id": "rXzc3FN8NlRS"
   },
   "source": [
    "Esta columna tiene mas de un 25% de datos faltantes, además no se considera muy relevante para el analisis, por lo cual se decide descartar"
   ]
  },
  {
   "cell_type": "code",
   "execution_count": null,
   "metadata": {
    "id": "TG1hEWepNk1r"
   },
   "outputs": [],
   "source": []
  },
  {
   "cell_type": "code",
   "execution_count": 10,
   "metadata": {
    "id": "VDnlXbmVOTR2"
   },
   "outputs": [],
   "source": [
    "df = df.drop('FECHA_DE_INICIO_DE_SINTOMAS',axis=1)"
   ]
  },
  {
   "cell_type": "code",
   "execution_count": 11,
   "metadata": {
    "colab": {
     "base_uri": "https://localhost:8080/",
     "height": 206
    },
    "id": "eG6MO_t6MRvq",
    "outputId": "8a30e8a0-4ace-4862-8b72-d049e877c260"
   },
   "outputs": [
    {
     "data": {
      "text/html": [
       "<div>\n",
       "<style scoped>\n",
       "    .dataframe tbody tr th:only-of-type {\n",
       "        vertical-align: middle;\n",
       "    }\n",
       "\n",
       "    .dataframe tbody tr th {\n",
       "        vertical-align: top;\n",
       "    }\n",
       "\n",
       "    .dataframe thead th {\n",
       "        text-align: right;\n",
       "    }\n",
       "</style>\n",
       "<table border=\"1\" class=\"dataframe\">\n",
       "  <thead>\n",
       "    <tr style=\"text-align: right;\">\n",
       "      <th></th>\n",
       "      <th>CASO</th>\n",
       "      <th>FECHA_DIAGNOSTICO</th>\n",
       "      <th>CIUDAD</th>\n",
       "      <th>LOCALIDAD_ASIS</th>\n",
       "      <th>EDAD</th>\n",
       "      <th>UNI_MED</th>\n",
       "      <th>SEXO</th>\n",
       "      <th>FUENTE_O_TIPO_DE_CONTAGIO</th>\n",
       "      <th>UBICACION</th>\n",
       "      <th>ESTADO</th>\n",
       "    </tr>\n",
       "  </thead>\n",
       "  <tbody>\n",
       "    <tr>\n",
       "      <th>0</th>\n",
       "      <td>1</td>\n",
       "      <td>2020-03-06</td>\n",
       "      <td>Bogotá</td>\n",
       "      <td>Usaquén</td>\n",
       "      <td>19</td>\n",
       "      <td>1</td>\n",
       "      <td>F</td>\n",
       "      <td>Importado</td>\n",
       "      <td>Casa</td>\n",
       "      <td>Recuperado</td>\n",
       "    </tr>\n",
       "    <tr>\n",
       "      <th>1</th>\n",
       "      <td>2</td>\n",
       "      <td>2020-03-10</td>\n",
       "      <td>Bogotá</td>\n",
       "      <td>Engativá</td>\n",
       "      <td>22</td>\n",
       "      <td>1</td>\n",
       "      <td>F</td>\n",
       "      <td>Importado</td>\n",
       "      <td>Casa</td>\n",
       "      <td>Recuperado</td>\n",
       "    </tr>\n",
       "    <tr>\n",
       "      <th>2</th>\n",
       "      <td>3</td>\n",
       "      <td>2020-03-10</td>\n",
       "      <td>Bogotá</td>\n",
       "      <td>Engativá</td>\n",
       "      <td>28</td>\n",
       "      <td>1</td>\n",
       "      <td>F</td>\n",
       "      <td>Importado</td>\n",
       "      <td>Casa</td>\n",
       "      <td>Recuperado</td>\n",
       "    </tr>\n",
       "    <tr>\n",
       "      <th>3</th>\n",
       "      <td>4</td>\n",
       "      <td>2020-03-12</td>\n",
       "      <td>Bogotá</td>\n",
       "      <td>Fontibón</td>\n",
       "      <td>36</td>\n",
       "      <td>1</td>\n",
       "      <td>F</td>\n",
       "      <td>Importado</td>\n",
       "      <td>Casa</td>\n",
       "      <td>Recuperado</td>\n",
       "    </tr>\n",
       "    <tr>\n",
       "      <th>4</th>\n",
       "      <td>5</td>\n",
       "      <td>2020-03-12</td>\n",
       "      <td>Bogotá</td>\n",
       "      <td>Kennedy</td>\n",
       "      <td>42</td>\n",
       "      <td>1</td>\n",
       "      <td>F</td>\n",
       "      <td>Importado</td>\n",
       "      <td>Casa</td>\n",
       "      <td>Recuperado</td>\n",
       "    </tr>\n",
       "  </tbody>\n",
       "</table>\n",
       "</div>"
      ],
      "text/plain": [
       "   CASO FECHA_DIAGNOSTICO  CIUDAD LOCALIDAD_ASIS  EDAD  UNI_MED SEXO  \\\n",
       "0     1        2020-03-06  Bogotá        Usaquén    19        1    F   \n",
       "1     2        2020-03-10  Bogotá       Engativá    22        1    F   \n",
       "2     3        2020-03-10  Bogotá       Engativá    28        1    F   \n",
       "3     4        2020-03-12  Bogotá       Fontibón    36        1    F   \n",
       "4     5        2020-03-12  Bogotá        Kennedy    42        1    F   \n",
       "\n",
       "  FUENTE_O_TIPO_DE_CONTAGIO UBICACION      ESTADO  \n",
       "0                 Importado      Casa  Recuperado  \n",
       "1                 Importado      Casa  Recuperado  \n",
       "2                 Importado      Casa  Recuperado  \n",
       "3                 Importado      Casa  Recuperado  \n",
       "4                 Importado      Casa  Recuperado  "
      ]
     },
     "execution_count": 11,
     "metadata": {},
     "output_type": "execute_result"
    }
   ],
   "source": [
    "df.head()"
   ]
  },
  {
   "cell_type": "markdown",
   "metadata": {
    "id": "8qjoFFGgNfAj"
   },
   "source": [
    "# **Data Exploration**"
   ]
  },
  {
   "cell_type": "markdown",
   "metadata": {
    "id": "MpRyMLRCOjYA"
   },
   "source": [
    "**plt.hist description**\n",
    "\n",
    "This method uses numpy.histogram to bin the data in **x** and **count the number of values in each bin, then draws the distribution** either as a BarContainer or Polygon. The bins, range, density, and weights parameters are forwarded to numpy.histogram."
   ]
  },
  {
   "cell_type": "code",
   "execution_count": 69,
   "metadata": {},
   "outputs": [
    {
     "data": {
      "text/plain": [
       "array([  0,   5,  10,  15,  20,  25,  30,  35,  40,  45,  50,  55,  60,\n",
       "        65,  70,  75,  80,  85,  90,  95, 100])"
      ]
     },
     "execution_count": 69,
     "metadata": {},
     "output_type": "execute_result"
    }
   ],
   "source": [
    "bins = np.arange(0,105, 5)\n",
    "bins"
   ]
  },
  {
   "cell_type": "code",
   "execution_count": 72,
   "metadata": {
    "colab": {
     "base_uri": "https://localhost:8080/",
     "height": 472
    },
    "id": "LFpEPHhTMVCK",
    "outputId": "ec1fa74e-b680-4372-f7b1-8079466fd4ea"
   },
   "outputs": [
    {
     "data": {
      "image/png": "[encoded data removed]",
      "text/plain": [
       "<Figure size 640x480 with 1 Axes>"
      ]
     },
     "metadata": {},
     "output_type": "display_data"
    }
   ],
   "source": [
    "fig, ax = plt.subplots()\n",
    "ax.hist(df['EDAD'], bins=bins)\n",
    "\n",
    "# set the x and y axis tick marks\n",
    "ax.set_xticks(np.arange(0,105, 10))\n",
    "\n",
    "ax.set_xlabel('Edad')\n",
    "ax.set_ylabel('Número de Infectados')\n",
    "ax.set_title('Distribución de edades')\n",
    "\n",
    "plt.show()"
   ]
  },
  {
   "cell_type": "markdown",
   "metadata": {
    "id": "VhzLxOFIfWAx"
   },
   "source": [
    "# **Mapa de Bogotá**"
   ]
  },
  {
   "cell_type": "code",
   "execution_count": 13,
   "metadata": {
    "colab": {
     "base_uri": "https://localhost:8080/",
     "height": 1000
    },
    "id": "99oKHKCaWLcS",
    "outputId": "9dc2244d-0cf9-43f6-f3a8-fac93e54b407"
   },
   "outputs": [
    {
     "data": {
      "text/plain": [
       "<Axes: >"
      ]
     },
     "execution_count": 13,
     "metadata": {},
     "output_type": "execute_result"
    },
    {
     "data": {
      "image/png": "[encoded data removed]",
      "text/plain": [
       "<Figure size 3000x1500 with 1 Axes>"
      ]
     },
     "metadata": {},
     "output_type": "display_data"
    }
   ],
   "source": [
    "# Crea un objeto GeoDataFrame de GeoPandas\n",
    "bog_map = gpd.read_file('poligonos-localidades.geojson')\n",
    "bog_map.plot(figsize=(30,15))"
   ]
  },
  {
   "cell_type": "code",
   "execution_count": 14,
   "metadata": {
    "id": "DLJa6PeuYKi2"
   },
   "outputs": [
    {
     "data": {
      "text/html": [
       "<div>\n",
       "<style scoped>\n",
       "    .dataframe tbody tr th:only-of-type {\n",
       "        vertical-align: middle;\n",
       "    }\n",
       "\n",
       "    .dataframe tbody tr th {\n",
       "        vertical-align: top;\n",
       "    }\n",
       "\n",
       "    .dataframe thead th {\n",
       "        text-align: right;\n",
       "    }\n",
       "</style>\n",
       "<table border=\"1\" class=\"dataframe\">\n",
       "  <thead>\n",
       "    <tr style=\"text-align: right;\">\n",
       "      <th></th>\n",
       "      <th>Nombre de la localidad</th>\n",
       "      <th>Acto administrativo de la localidad</th>\n",
       "      <th>Area de la localidad</th>\n",
       "      <th>Identificador unico de la localidad</th>\n",
       "      <th>geo_point_2d</th>\n",
       "      <th>geometry</th>\n",
       "    </tr>\n",
       "  </thead>\n",
       "  <tbody>\n",
       "    <tr>\n",
       "      <th>0</th>\n",
       "      <td>ANTONIO NARIÑO</td>\n",
       "      <td>Acuerdo 117 de 2003</td>\n",
       "      <td>4879543,386426</td>\n",
       "      <td>15</td>\n",
       "      <td>{'lon': -74.10284240061449, 'lat': 4.588770674...</td>\n",
       "      <td>MULTIPOLYGON (((-74.13075 4.59335, -74.13075 4...</td>\n",
       "    </tr>\n",
       "    <tr>\n",
       "      <th>1</th>\n",
       "      <td>TEUSAQUILLO</td>\n",
       "      <td>Acuerdo 8 de 1977</td>\n",
       "      <td>14193168,127546</td>\n",
       "      <td>13</td>\n",
       "      <td>{'lon': -74.08576901958143, 'lat': 4.641173586...</td>\n",
       "      <td>MULTIPOLYGON (((-74.09372 4.66607, -74.10342 4...</td>\n",
       "    </tr>\n",
       "    <tr>\n",
       "      <th>2</th>\n",
       "      <td>SUMAPAZ</td>\n",
       "      <td>Acuerdo 9 de 1986</td>\n",
       "      <td>780968757,719072</td>\n",
       "      <td>20</td>\n",
       "      <td>{'lon': -74.25697871800469, 'lat': 4.036568747...</td>\n",
       "      <td>MULTIPOLYGON (((-74.20584 4.26966, -74.20567 4...</td>\n",
       "    </tr>\n",
       "    <tr>\n",
       "      <th>3</th>\n",
       "      <td>SAN CRISTOBAL</td>\n",
       "      <td>Acuerdo 117 de 2003</td>\n",
       "      <td>49098548,52917</td>\n",
       "      <td>04</td>\n",
       "      <td>{'lon': -74.06607256050648, 'lat': 4.548749008...</td>\n",
       "      <td>MULTIPOLYGON (((-74.02900 4.55830, -74.02892 4...</td>\n",
       "    </tr>\n",
       "    <tr>\n",
       "      <th>4</th>\n",
       "      <td>USAQUEN</td>\n",
       "      <td>Acuerdo 8 de 1977</td>\n",
       "      <td>65315721,646621</td>\n",
       "      <td>01</td>\n",
       "      <td>{'lon': -74.02782483459404, 'lat': 4.742092413...</td>\n",
       "      <td>MULTIPOLYGON (((-74.01089 4.66358, -74.01077 4...</td>\n",
       "    </tr>\n",
       "  </tbody>\n",
       "</table>\n",
       "</div>"
      ],
      "text/plain": [
       "  Nombre de la localidad Acto administrativo de la localidad  \\\n",
       "0         ANTONIO NARIÑO                 Acuerdo 117 de 2003   \n",
       "1            TEUSAQUILLO                   Acuerdo 8 de 1977   \n",
       "2                SUMAPAZ                   Acuerdo 9 de 1986   \n",
       "3          SAN CRISTOBAL                 Acuerdo 117 de 2003   \n",
       "4                USAQUEN                   Acuerdo 8 de 1977   \n",
       "\n",
       "  Area de la localidad Identificador unico de la localidad  \\\n",
       "0       4879543,386426                                  15   \n",
       "1      14193168,127546                                  13   \n",
       "2     780968757,719072                                  20   \n",
       "3       49098548,52917                                  04   \n",
       "4      65315721,646621                                  01   \n",
       "\n",
       "                                        geo_point_2d  \\\n",
       "0  {'lon': -74.10284240061449, 'lat': 4.588770674...   \n",
       "1  {'lon': -74.08576901958143, 'lat': 4.641173586...   \n",
       "2  {'lon': -74.25697871800469, 'lat': 4.036568747...   \n",
       "3  {'lon': -74.06607256050648, 'lat': 4.548749008...   \n",
       "4  {'lon': -74.02782483459404, 'lat': 4.742092413...   \n",
       "\n",
       "                                            geometry  \n",
       "0  MULTIPOLYGON (((-74.13075 4.59335, -74.13075 4...  \n",
       "1  MULTIPOLYGON (((-74.09372 4.66607, -74.10342 4...  \n",
       "2  MULTIPOLYGON (((-74.20584 4.26966, -74.20567 4...  \n",
       "3  MULTIPOLYGON (((-74.02900 4.55830, -74.02892 4...  \n",
       "4  MULTIPOLYGON (((-74.01089 4.66358, -74.01077 4...  "
      ]
     },
     "execution_count": 14,
     "metadata": {},
     "output_type": "execute_result"
    }
   ],
   "source": [
    "bog_map.head()"
   ]
  },
  {
   "cell_type": "code",
   "execution_count": 15,
   "metadata": {
    "id": "eAyMI_AbWxOW"
   },
   "outputs": [
    {
     "data": {
      "text/html": [
       "<div>\n",
       "<style scoped>\n",
       "    .dataframe tbody tr th:only-of-type {\n",
       "        vertical-align: middle;\n",
       "    }\n",
       "\n",
       "    .dataframe tbody tr th {\n",
       "        vertical-align: top;\n",
       "    }\n",
       "\n",
       "    .dataframe thead th {\n",
       "        text-align: right;\n",
       "    }\n",
       "</style>\n",
       "<table border=\"1\" class=\"dataframe\">\n",
       "  <thead>\n",
       "    <tr style=\"text-align: right;\">\n",
       "      <th></th>\n",
       "      <th>CASO</th>\n",
       "      <th>FECHA_DIAGNOSTICO</th>\n",
       "      <th>CIUDAD</th>\n",
       "      <th>LOCALIDAD_ASIS</th>\n",
       "      <th>EDAD</th>\n",
       "      <th>UNI_MED</th>\n",
       "      <th>SEXO</th>\n",
       "      <th>FUENTE_O_TIPO_DE_CONTAGIO</th>\n",
       "      <th>UBICACION</th>\n",
       "      <th>ESTADO</th>\n",
       "    </tr>\n",
       "  </thead>\n",
       "  <tbody>\n",
       "    <tr>\n",
       "      <th>0</th>\n",
       "      <td>1</td>\n",
       "      <td>2020-03-06</td>\n",
       "      <td>Bogotá</td>\n",
       "      <td>Usaquén</td>\n",
       "      <td>19</td>\n",
       "      <td>1</td>\n",
       "      <td>F</td>\n",
       "      <td>Importado</td>\n",
       "      <td>Casa</td>\n",
       "      <td>Recuperado</td>\n",
       "    </tr>\n",
       "    <tr>\n",
       "      <th>1</th>\n",
       "      <td>2</td>\n",
       "      <td>2020-03-10</td>\n",
       "      <td>Bogotá</td>\n",
       "      <td>Engativá</td>\n",
       "      <td>22</td>\n",
       "      <td>1</td>\n",
       "      <td>F</td>\n",
       "      <td>Importado</td>\n",
       "      <td>Casa</td>\n",
       "      <td>Recuperado</td>\n",
       "    </tr>\n",
       "    <tr>\n",
       "      <th>2</th>\n",
       "      <td>3</td>\n",
       "      <td>2020-03-10</td>\n",
       "      <td>Bogotá</td>\n",
       "      <td>Engativá</td>\n",
       "      <td>28</td>\n",
       "      <td>1</td>\n",
       "      <td>F</td>\n",
       "      <td>Importado</td>\n",
       "      <td>Casa</td>\n",
       "      <td>Recuperado</td>\n",
       "    </tr>\n",
       "    <tr>\n",
       "      <th>3</th>\n",
       "      <td>4</td>\n",
       "      <td>2020-03-12</td>\n",
       "      <td>Bogotá</td>\n",
       "      <td>Fontibón</td>\n",
       "      <td>36</td>\n",
       "      <td>1</td>\n",
       "      <td>F</td>\n",
       "      <td>Importado</td>\n",
       "      <td>Casa</td>\n",
       "      <td>Recuperado</td>\n",
       "    </tr>\n",
       "    <tr>\n",
       "      <th>4</th>\n",
       "      <td>5</td>\n",
       "      <td>2020-03-12</td>\n",
       "      <td>Bogotá</td>\n",
       "      <td>Kennedy</td>\n",
       "      <td>42</td>\n",
       "      <td>1</td>\n",
       "      <td>F</td>\n",
       "      <td>Importado</td>\n",
       "      <td>Casa</td>\n",
       "      <td>Recuperado</td>\n",
       "    </tr>\n",
       "  </tbody>\n",
       "</table>\n",
       "</div>"
      ],
      "text/plain": [
       "   CASO FECHA_DIAGNOSTICO  CIUDAD LOCALIDAD_ASIS  EDAD  UNI_MED SEXO  \\\n",
       "0     1        2020-03-06  Bogotá        Usaquén    19        1    F   \n",
       "1     2        2020-03-10  Bogotá       Engativá    22        1    F   \n",
       "2     3        2020-03-10  Bogotá       Engativá    28        1    F   \n",
       "3     4        2020-03-12  Bogotá       Fontibón    36        1    F   \n",
       "4     5        2020-03-12  Bogotá        Kennedy    42        1    F   \n",
       "\n",
       "  FUENTE_O_TIPO_DE_CONTAGIO UBICACION      ESTADO  \n",
       "0                 Importado      Casa  Recuperado  \n",
       "1                 Importado      Casa  Recuperado  \n",
       "2                 Importado      Casa  Recuperado  \n",
       "3                 Importado      Casa  Recuperado  \n",
       "4                 Importado      Casa  Recuperado  "
      ]
     },
     "execution_count": 15,
     "metadata": {},
     "output_type": "execute_result"
    }
   ],
   "source": [
    "df.head()"
   ]
  },
  {
   "cell_type": "markdown",
   "metadata": {
    "id": "u5Q-4HlTYR36"
   },
   "source": [
    "# Transformar columna localidad\n",
    "Debemos pasarlo a mayusculas y quitarle las tildes para que coincida con la del mapa"
   ]
  },
  {
   "cell_type": "markdown",
   "metadata": {},
   "source": [
    "# Descartar Sumapaz"
   ]
  },
  {
   "cell_type": "markdown",
   "metadata": {},
   "source": [
    "Como sumapaz cuenta con tan pocos casos se decide descartarla del conteo, aproximadamente contaba con 152 comparada con cientos de miles en las otras localidades"
   ]
  },
  {
   "cell_type": "code",
   "execution_count": 16,
   "metadata": {},
   "outputs": [],
   "source": [
    "bog_map = bog_map[bog_map['Nombre de la localidad'] != 'SUMAPAZ']"
   ]
  },
  {
   "cell_type": "code",
   "execution_count": 17,
   "metadata": {
    "id": "7woqStQLb_Di"
   },
   "outputs": [
    {
     "data": {
      "text/html": [
       "<div>\n",
       "<style scoped>\n",
       "    .dataframe tbody tr th:only-of-type {\n",
       "        vertical-align: middle;\n",
       "    }\n",
       "\n",
       "    .dataframe tbody tr th {\n",
       "        vertical-align: top;\n",
       "    }\n",
       "\n",
       "    .dataframe thead th {\n",
       "        text-align: right;\n",
       "    }\n",
       "</style>\n",
       "<table border=\"1\" class=\"dataframe\">\n",
       "  <thead>\n",
       "    <tr style=\"text-align: right;\">\n",
       "      <th></th>\n",
       "      <th>CASO</th>\n",
       "      <th>FECHA_DIAGNOSTICO</th>\n",
       "      <th>CIUDAD</th>\n",
       "      <th>EDAD</th>\n",
       "      <th>UNI_MED</th>\n",
       "      <th>SEXO</th>\n",
       "      <th>FUENTE_O_TIPO_DE_CONTAGIO</th>\n",
       "      <th>UBICACION</th>\n",
       "      <th>ESTADO</th>\n",
       "    </tr>\n",
       "    <tr>\n",
       "      <th>LOCALIDAD_ASIS</th>\n",
       "      <th></th>\n",
       "      <th></th>\n",
       "      <th></th>\n",
       "      <th></th>\n",
       "      <th></th>\n",
       "      <th></th>\n",
       "      <th></th>\n",
       "      <th></th>\n",
       "      <th></th>\n",
       "    </tr>\n",
       "  </thead>\n",
       "  <tbody>\n",
       "    <tr>\n",
       "      <th>Antonio Nariño</th>\n",
       "      <td>24189</td>\n",
       "      <td>24189</td>\n",
       "      <td>24189</td>\n",
       "      <td>24189</td>\n",
       "      <td>24189</td>\n",
       "      <td>24189</td>\n",
       "      <td>24189</td>\n",
       "      <td>24189</td>\n",
       "      <td>24189</td>\n",
       "    </tr>\n",
       "    <tr>\n",
       "      <th>Barrios Unidos</th>\n",
       "      <td>43602</td>\n",
       "      <td>43602</td>\n",
       "      <td>43602</td>\n",
       "      <td>43602</td>\n",
       "      <td>43602</td>\n",
       "      <td>43602</td>\n",
       "      <td>43602</td>\n",
       "      <td>43602</td>\n",
       "      <td>43602</td>\n",
       "    </tr>\n",
       "    <tr>\n",
       "      <th>Bosa</th>\n",
       "      <td>125162</td>\n",
       "      <td>125162</td>\n",
       "      <td>125162</td>\n",
       "      <td>125162</td>\n",
       "      <td>125162</td>\n",
       "      <td>125162</td>\n",
       "      <td>125162</td>\n",
       "      <td>125162</td>\n",
       "      <td>125162</td>\n",
       "    </tr>\n",
       "    <tr>\n",
       "      <th>Chapinero</th>\n",
       "      <td>63262</td>\n",
       "      <td>63262</td>\n",
       "      <td>63262</td>\n",
       "      <td>63262</td>\n",
       "      <td>63262</td>\n",
       "      <td>63262</td>\n",
       "      <td>63262</td>\n",
       "      <td>63262</td>\n",
       "      <td>63262</td>\n",
       "    </tr>\n",
       "    <tr>\n",
       "      <th>Ciudad Bolívar</th>\n",
       "      <td>101137</td>\n",
       "      <td>101137</td>\n",
       "      <td>101137</td>\n",
       "      <td>101137</td>\n",
       "      <td>101137</td>\n",
       "      <td>101137</td>\n",
       "      <td>101137</td>\n",
       "      <td>101137</td>\n",
       "      <td>101137</td>\n",
       "    </tr>\n",
       "    <tr>\n",
       "      <th>Engativá</th>\n",
       "      <td>205220</td>\n",
       "      <td>205220</td>\n",
       "      <td>205220</td>\n",
       "      <td>205220</td>\n",
       "      <td>205220</td>\n",
       "      <td>205220</td>\n",
       "      <td>205220</td>\n",
       "      <td>205220</td>\n",
       "      <td>205220</td>\n",
       "    </tr>\n",
       "    <tr>\n",
       "      <th>Fontibón</th>\n",
       "      <td>97605</td>\n",
       "      <td>97605</td>\n",
       "      <td>97605</td>\n",
       "      <td>97605</td>\n",
       "      <td>97605</td>\n",
       "      <td>97605</td>\n",
       "      <td>97605</td>\n",
       "      <td>97605</td>\n",
       "      <td>97605</td>\n",
       "    </tr>\n",
       "    <tr>\n",
       "      <th>Fuera de Bogotá</th>\n",
       "      <td>32003</td>\n",
       "      <td>32003</td>\n",
       "      <td>32003</td>\n",
       "      <td>32003</td>\n",
       "      <td>32003</td>\n",
       "      <td>32003</td>\n",
       "      <td>32003</td>\n",
       "      <td>32003</td>\n",
       "      <td>32003</td>\n",
       "    </tr>\n",
       "    <tr>\n",
       "      <th>Kennedy</th>\n",
       "      <td>225084</td>\n",
       "      <td>225084</td>\n",
       "      <td>225084</td>\n",
       "      <td>225084</td>\n",
       "      <td>225084</td>\n",
       "      <td>225084</td>\n",
       "      <td>225084</td>\n",
       "      <td>225084</td>\n",
       "      <td>225084</td>\n",
       "    </tr>\n",
       "    <tr>\n",
       "      <th>La Candelaria</th>\n",
       "      <td>10258</td>\n",
       "      <td>10258</td>\n",
       "      <td>10258</td>\n",
       "      <td>10258</td>\n",
       "      <td>10258</td>\n",
       "      <td>10258</td>\n",
       "      <td>10258</td>\n",
       "      <td>10258</td>\n",
       "      <td>10258</td>\n",
       "    </tr>\n",
       "    <tr>\n",
       "      <th>Los Mártires</th>\n",
       "      <td>23859</td>\n",
       "      <td>23859</td>\n",
       "      <td>23859</td>\n",
       "      <td>23859</td>\n",
       "      <td>23859</td>\n",
       "      <td>23859</td>\n",
       "      <td>23859</td>\n",
       "      <td>23859</td>\n",
       "      <td>23859</td>\n",
       "    </tr>\n",
       "    <tr>\n",
       "      <th>Puente Aranda</th>\n",
       "      <td>67952</td>\n",
       "      <td>67952</td>\n",
       "      <td>67952</td>\n",
       "      <td>67952</td>\n",
       "      <td>67952</td>\n",
       "      <td>67952</td>\n",
       "      <td>67952</td>\n",
       "      <td>67952</td>\n",
       "      <td>67952</td>\n",
       "    </tr>\n",
       "    <tr>\n",
       "      <th>Rafael Uribe Uribe</th>\n",
       "      <td>81256</td>\n",
       "      <td>81256</td>\n",
       "      <td>81256</td>\n",
       "      <td>81256</td>\n",
       "      <td>81256</td>\n",
       "      <td>81256</td>\n",
       "      <td>81256</td>\n",
       "      <td>81256</td>\n",
       "      <td>81256</td>\n",
       "    </tr>\n",
       "    <tr>\n",
       "      <th>San Cristóbal</th>\n",
       "      <td>70068</td>\n",
       "      <td>70068</td>\n",
       "      <td>70068</td>\n",
       "      <td>70068</td>\n",
       "      <td>70068</td>\n",
       "      <td>70068</td>\n",
       "      <td>70068</td>\n",
       "      <td>70068</td>\n",
       "      <td>70068</td>\n",
       "    </tr>\n",
       "    <tr>\n",
       "      <th>Santa Fe</th>\n",
       "      <td>32845</td>\n",
       "      <td>32845</td>\n",
       "      <td>32845</td>\n",
       "      <td>32845</td>\n",
       "      <td>32845</td>\n",
       "      <td>32845</td>\n",
       "      <td>32845</td>\n",
       "      <td>32845</td>\n",
       "      <td>32845</td>\n",
       "    </tr>\n",
       "    <tr>\n",
       "      <th>Sin dato</th>\n",
       "      <td>64844</td>\n",
       "      <td>64844</td>\n",
       "      <td>64844</td>\n",
       "      <td>64844</td>\n",
       "      <td>64844</td>\n",
       "      <td>64844</td>\n",
       "      <td>64844</td>\n",
       "      <td>64844</td>\n",
       "      <td>64844</td>\n",
       "    </tr>\n",
       "    <tr>\n",
       "      <th>Suba</th>\n",
       "      <td>290585</td>\n",
       "      <td>290585</td>\n",
       "      <td>290585</td>\n",
       "      <td>290585</td>\n",
       "      <td>290585</td>\n",
       "      <td>290585</td>\n",
       "      <td>290585</td>\n",
       "      <td>290585</td>\n",
       "      <td>290585</td>\n",
       "    </tr>\n",
       "    <tr>\n",
       "      <th>Sumapaz</th>\n",
       "      <td>151</td>\n",
       "      <td>151</td>\n",
       "      <td>151</td>\n",
       "      <td>151</td>\n",
       "      <td>151</td>\n",
       "      <td>151</td>\n",
       "      <td>151</td>\n",
       "      <td>151</td>\n",
       "      <td>151</td>\n",
       "    </tr>\n",
       "    <tr>\n",
       "      <th>Teusaquillo</th>\n",
       "      <td>54761</td>\n",
       "      <td>54761</td>\n",
       "      <td>54761</td>\n",
       "      <td>54761</td>\n",
       "      <td>54761</td>\n",
       "      <td>54761</td>\n",
       "      <td>54761</td>\n",
       "      <td>54761</td>\n",
       "      <td>54761</td>\n",
       "    </tr>\n",
       "    <tr>\n",
       "      <th>Tunjuelito</th>\n",
       "      <td>38740</td>\n",
       "      <td>38740</td>\n",
       "      <td>38740</td>\n",
       "      <td>38740</td>\n",
       "      <td>38740</td>\n",
       "      <td>38740</td>\n",
       "      <td>38740</td>\n",
       "      <td>38740</td>\n",
       "      <td>38740</td>\n",
       "    </tr>\n",
       "    <tr>\n",
       "      <th>Usaquén</th>\n",
       "      <td>164918</td>\n",
       "      <td>164918</td>\n",
       "      <td>164918</td>\n",
       "      <td>164918</td>\n",
       "      <td>164918</td>\n",
       "      <td>164918</td>\n",
       "      <td>164918</td>\n",
       "      <td>164918</td>\n",
       "      <td>164918</td>\n",
       "    </tr>\n",
       "    <tr>\n",
       "      <th>Usme</th>\n",
       "      <td>58796</td>\n",
       "      <td>58796</td>\n",
       "      <td>58796</td>\n",
       "      <td>58796</td>\n",
       "      <td>58796</td>\n",
       "      <td>58796</td>\n",
       "      <td>58796</td>\n",
       "      <td>58796</td>\n",
       "      <td>58796</td>\n",
       "    </tr>\n",
       "  </tbody>\n",
       "</table>\n",
       "</div>"
      ],
      "text/plain": [
       "                      CASO  FECHA_DIAGNOSTICO  CIUDAD    EDAD  UNI_MED  \\\n",
       "LOCALIDAD_ASIS                                                           \n",
       "Antonio Nariño       24189              24189   24189   24189    24189   \n",
       "Barrios Unidos       43602              43602   43602   43602    43602   \n",
       "Bosa                125162             125162  125162  125162   125162   \n",
       "Chapinero            63262              63262   63262   63262    63262   \n",
       "Ciudad Bolívar      101137             101137  101137  101137   101137   \n",
       "Engativá            205220             205220  205220  205220   205220   \n",
       "Fontibón             97605              97605   97605   97605    97605   \n",
       "Fuera de Bogotá      32003              32003   32003   32003    32003   \n",
       "Kennedy             225084             225084  225084  225084   225084   \n",
       "La Candelaria        10258              10258   10258   10258    10258   \n",
       "Los Mártires         23859              23859   23859   23859    23859   \n",
       "Puente Aranda        67952              67952   67952   67952    67952   \n",
       "Rafael Uribe Uribe   81256              81256   81256   81256    81256   \n",
       "San Cristóbal        70068              70068   70068   70068    70068   \n",
       "Santa Fe             32845              32845   32845   32845    32845   \n",
       "Sin dato             64844              64844   64844   64844    64844   \n",
       "Suba                290585             290585  290585  290585   290585   \n",
       "Sumapaz                151                151     151     151      151   \n",
       "Teusaquillo          54761              54761   54761   54761    54761   \n",
       "Tunjuelito           38740              38740   38740   38740    38740   \n",
       "Usaquén             164918             164918  164918  164918   164918   \n",
       "Usme                 58796              58796   58796   58796    58796   \n",
       "\n",
       "                      SEXO  FUENTE_O_TIPO_DE_CONTAGIO  UBICACION  ESTADO  \n",
       "LOCALIDAD_ASIS                                                            \n",
       "Antonio Nariño       24189                      24189      24189   24189  \n",
       "Barrios Unidos       43602                      43602      43602   43602  \n",
       "Bosa                125162                     125162     125162  125162  \n",
       "Chapinero            63262                      63262      63262   63262  \n",
       "Ciudad Bolívar      101137                     101137     101137  101137  \n",
       "Engativá            205220                     205220     205220  205220  \n",
       "Fontibón             97605                      97605      97605   97605  \n",
       "Fuera de Bogotá      32003                      32003      32003   32003  \n",
       "Kennedy             225084                     225084     225084  225084  \n",
       "La Candelaria        10258                      10258      10258   10258  \n",
       "Los Mártires         23859                      23859      23859   23859  \n",
       "Puente Aranda        67952                      67952      67952   67952  \n",
       "Rafael Uribe Uribe   81256                      81256      81256   81256  \n",
       "San Cristóbal        70068                      70068      70068   70068  \n",
       "Santa Fe             32845                      32845      32845   32845  \n",
       "Sin dato             64844                      64844      64844   64844  \n",
       "Suba                290585                     290585     290585  290585  \n",
       "Sumapaz                151                        151        151     151  \n",
       "Teusaquillo          54761                      54761      54761   54761  \n",
       "Tunjuelito           38740                      38740      38740   38740  \n",
       "Usaquén             164918                     164918     164918  164918  \n",
       "Usme                 58796                      58796      58796   58796  "
      ]
     },
     "execution_count": 17,
     "metadata": {},
     "output_type": "execute_result"
    }
   ],
   "source": [
    "df_localidades = df.groupby('LOCALIDAD_ASIS').count()\n",
    "df_localidades"
   ]
  },
  {
   "cell_type": "code",
   "execution_count": 18,
   "metadata": {
    "id": "qot4pbqKaIiY"
   },
   "outputs": [],
   "source": [
    "import unicodedata\n",
    "# Función generada por chatGPT para omitir tildes\n",
    "def quitar_tildes(texto):\n",
    "    texto_normalizado = unicodedata.normalize('NFKD', texto)\n",
    "    texto_sin_tildes = texto_normalizado.encode('ASCII', 'ignore').decode('utf-8')\n",
    "    return texto_sin_tildes"
   ]
  },
  {
   "cell_type": "code",
   "execution_count": 19,
   "metadata": {
    "id": "X666lW5-c4Tm"
   },
   "outputs": [
    {
     "data": {
      "text/html": [
       "<div>\n",
       "<style scoped>\n",
       "    .dataframe tbody tr th:only-of-type {\n",
       "        vertical-align: middle;\n",
       "    }\n",
       "\n",
       "    .dataframe tbody tr th {\n",
       "        vertical-align: top;\n",
       "    }\n",
       "\n",
       "    .dataframe thead th {\n",
       "        text-align: right;\n",
       "    }\n",
       "</style>\n",
       "<table border=\"1\" class=\"dataframe\">\n",
       "  <thead>\n",
       "    <tr style=\"text-align: right;\">\n",
       "      <th></th>\n",
       "      <th>CASO</th>\n",
       "      <th>FECHA_DIAGNOSTICO</th>\n",
       "      <th>CIUDAD</th>\n",
       "      <th>EDAD</th>\n",
       "      <th>UNI_MED</th>\n",
       "      <th>SEXO</th>\n",
       "      <th>FUENTE_O_TIPO_DE_CONTAGIO</th>\n",
       "      <th>UBICACION</th>\n",
       "      <th>ESTADO</th>\n",
       "    </tr>\n",
       "    <tr>\n",
       "      <th>LOCALIDAD_ASIS</th>\n",
       "      <th></th>\n",
       "      <th></th>\n",
       "      <th></th>\n",
       "      <th></th>\n",
       "      <th></th>\n",
       "      <th></th>\n",
       "      <th></th>\n",
       "      <th></th>\n",
       "      <th></th>\n",
       "    </tr>\n",
       "  </thead>\n",
       "  <tbody>\n",
       "    <tr>\n",
       "      <th>Antonio Nariño</th>\n",
       "      <td>24189</td>\n",
       "      <td>24189</td>\n",
       "      <td>24189</td>\n",
       "      <td>24189</td>\n",
       "      <td>24189</td>\n",
       "      <td>24189</td>\n",
       "      <td>24189</td>\n",
       "      <td>24189</td>\n",
       "      <td>24189</td>\n",
       "    </tr>\n",
       "    <tr>\n",
       "      <th>Barrios Unidos</th>\n",
       "      <td>43602</td>\n",
       "      <td>43602</td>\n",
       "      <td>43602</td>\n",
       "      <td>43602</td>\n",
       "      <td>43602</td>\n",
       "      <td>43602</td>\n",
       "      <td>43602</td>\n",
       "      <td>43602</td>\n",
       "      <td>43602</td>\n",
       "    </tr>\n",
       "    <tr>\n",
       "      <th>Bosa</th>\n",
       "      <td>125162</td>\n",
       "      <td>125162</td>\n",
       "      <td>125162</td>\n",
       "      <td>125162</td>\n",
       "      <td>125162</td>\n",
       "      <td>125162</td>\n",
       "      <td>125162</td>\n",
       "      <td>125162</td>\n",
       "      <td>125162</td>\n",
       "    </tr>\n",
       "    <tr>\n",
       "      <th>Chapinero</th>\n",
       "      <td>63262</td>\n",
       "      <td>63262</td>\n",
       "      <td>63262</td>\n",
       "      <td>63262</td>\n",
       "      <td>63262</td>\n",
       "      <td>63262</td>\n",
       "      <td>63262</td>\n",
       "      <td>63262</td>\n",
       "      <td>63262</td>\n",
       "    </tr>\n",
       "    <tr>\n",
       "      <th>Ciudad Bolívar</th>\n",
       "      <td>101137</td>\n",
       "      <td>101137</td>\n",
       "      <td>101137</td>\n",
       "      <td>101137</td>\n",
       "      <td>101137</td>\n",
       "      <td>101137</td>\n",
       "      <td>101137</td>\n",
       "      <td>101137</td>\n",
       "      <td>101137</td>\n",
       "    </tr>\n",
       "  </tbody>\n",
       "</table>\n",
       "</div>"
      ],
      "text/plain": [
       "                  CASO  FECHA_DIAGNOSTICO  CIUDAD    EDAD  UNI_MED    SEXO  \\\n",
       "LOCALIDAD_ASIS                                                               \n",
       "Antonio Nariño   24189              24189   24189   24189    24189   24189   \n",
       "Barrios Unidos   43602              43602   43602   43602    43602   43602   \n",
       "Bosa            125162             125162  125162  125162   125162  125162   \n",
       "Chapinero        63262              63262   63262   63262    63262   63262   \n",
       "Ciudad Bolívar  101137             101137  101137  101137   101137  101137   \n",
       "\n",
       "                FUENTE_O_TIPO_DE_CONTAGIO  UBICACION  ESTADO  \n",
       "LOCALIDAD_ASIS                                                \n",
       "Antonio Nariño                      24189      24189   24189  \n",
       "Barrios Unidos                      43602      43602   43602  \n",
       "Bosa                               125162     125162  125162  \n",
       "Chapinero                           63262      63262   63262  \n",
       "Ciudad Bolívar                     101137     101137  101137  "
      ]
     },
     "execution_count": 19,
     "metadata": {},
     "output_type": "execute_result"
    }
   ],
   "source": [
    "df_localidades.head()"
   ]
  },
  {
   "cell_type": "code",
   "execution_count": 20,
   "metadata": {
    "id": "H_gVh7L5XszJ"
   },
   "outputs": [
    {
     "data": {
      "text/plain": [
       "Index(['ANTONIO NARINO', 'BARRIOS UNIDOS', 'BOSA', 'CHAPINERO',\n",
       "       'CIUDAD BOLIVAR', 'ENGATIVA', 'FONTIBON', 'FUERA DE BOGOTA', 'KENNEDY',\n",
       "       'LA CANDELARIA', 'LOS MARTIRES', 'PUENTE ARANDA', 'RAFAEL URIBE URIBE',\n",
       "       'SAN CRISTOBAL', 'SANTA FE', 'SIN DATO', 'SUBA', 'SUMAPAZ',\n",
       "       'TEUSAQUILLO', 'TUNJUELITO', 'USAQUEN', 'USME'],\n",
       "      dtype='object', name='LOCALIDAD_ASIS')"
      ]
     },
     "execution_count": 20,
     "metadata": {},
     "output_type": "execute_result"
    }
   ],
   "source": [
    "df_localidades.index.map(lambda x:quitar_tildes(x.upper()))"
   ]
  },
  {
   "cell_type": "code",
   "execution_count": 21,
   "metadata": {
    "id": "fFa3JBt3ZM0h"
   },
   "outputs": [
    {
     "data": {
      "text/plain": [
       "LOCALIDAD_ASIS\n",
       "ANTONIO NARINO         24189\n",
       "BARRIOS UNIDOS         43602\n",
       "BOSA                  125162\n",
       "CHAPINERO              63262\n",
       "CIUDAD BOLIVAR        101137\n",
       "ENGATIVA              205220\n",
       "FONTIBON               97605\n",
       "FUERA DE BOGOTA        32003\n",
       "KENNEDY               225084\n",
       "LA CANDELARIA          10258\n",
       "LOS MARTIRES           23859\n",
       "PUENTE ARANDA          67952\n",
       "RAFAEL URIBE URIBE     81256\n",
       "SAN CRISTOBAL          70068\n",
       "SANTA FE               32845\n",
       "SIN DATO               64844\n",
       "SUBA                  290585\n",
       "SUMAPAZ                  151\n",
       "TEUSAQUILLO            54761\n",
       "TUNJUELITO             38740\n",
       "USAQUEN               164918\n",
       "USME                   58796\n",
       "Name: CASO, dtype: int64"
      ]
     },
     "execution_count": 21,
     "metadata": {},
     "output_type": "execute_result"
    }
   ],
   "source": [
    "df_localidades.index = df_localidades.index.map(lambda x:quitar_tildes(x.upper()))\n",
    "df_localidades = df_localidades['CASO'] # nos podemos quedar con solo una columna porque hicimos un .count por lo tanto todas las columnas tendran el mismo valor\n",
    "df_localidades"
   ]
  },
  {
   "cell_type": "code",
   "execution_count": 22,
   "metadata": {
    "id": "TGAeClTUaWWt"
   },
   "outputs": [
    {
     "data": {
      "text/html": [
       "<div>\n",
       "<style scoped>\n",
       "    .dataframe tbody tr th:only-of-type {\n",
       "        vertical-align: middle;\n",
       "    }\n",
       "\n",
       "    .dataframe tbody tr th {\n",
       "        vertical-align: top;\n",
       "    }\n",
       "\n",
       "    .dataframe thead th {\n",
       "        text-align: right;\n",
       "    }\n",
       "</style>\n",
       "<table border=\"1\" class=\"dataframe\">\n",
       "  <thead>\n",
       "    <tr style=\"text-align: right;\">\n",
       "      <th></th>\n",
       "      <th>Nombre de la localidad</th>\n",
       "      <th>Acto administrativo de la localidad</th>\n",
       "      <th>Area de la localidad</th>\n",
       "      <th>Identificador unico de la localidad</th>\n",
       "      <th>geo_point_2d</th>\n",
       "      <th>geometry</th>\n",
       "      <th>CASO</th>\n",
       "    </tr>\n",
       "  </thead>\n",
       "  <tbody>\n",
       "    <tr>\n",
       "      <th>0</th>\n",
       "      <td>TEUSAQUILLO</td>\n",
       "      <td>Acuerdo 8 de 1977</td>\n",
       "      <td>14193168,127546</td>\n",
       "      <td>13</td>\n",
       "      <td>{'lon': -74.08576901958143, 'lat': 4.641173586...</td>\n",
       "      <td>MULTIPOLYGON (((-74.09372 4.66607, -74.10342 4...</td>\n",
       "      <td>54761</td>\n",
       "    </tr>\n",
       "    <tr>\n",
       "      <th>1</th>\n",
       "      <td>SAN CRISTOBAL</td>\n",
       "      <td>Acuerdo 117 de 2003</td>\n",
       "      <td>49098548,52917</td>\n",
       "      <td>04</td>\n",
       "      <td>{'lon': -74.06607256050648, 'lat': 4.548749008...</td>\n",
       "      <td>MULTIPOLYGON (((-74.02900 4.55830, -74.02892 4...</td>\n",
       "      <td>70068</td>\n",
       "    </tr>\n",
       "    <tr>\n",
       "      <th>2</th>\n",
       "      <td>USAQUEN</td>\n",
       "      <td>Acuerdo 8 de 1977</td>\n",
       "      <td>65315721,646621</td>\n",
       "      <td>01</td>\n",
       "      <td>{'lon': -74.02782483459404, 'lat': 4.742092413...</td>\n",
       "      <td>MULTIPOLYGON (((-74.01089 4.66358, -74.01077 4...</td>\n",
       "      <td>164918</td>\n",
       "    </tr>\n",
       "    <tr>\n",
       "      <th>3</th>\n",
       "      <td>TUNJUELITO</td>\n",
       "      <td>Acuerdo 117 de 2003</td>\n",
       "      <td>9910939,743524</td>\n",
       "      <td>06</td>\n",
       "      <td>{'lon': -74.13598945142014, 'lat': 4.574841398...</td>\n",
       "      <td>MULTIPOLYGON (((-74.13777 4.59489, -74.14043 4...</td>\n",
       "      <td>38740</td>\n",
       "    </tr>\n",
       "    <tr>\n",
       "      <th>4</th>\n",
       "      <td>BOSA</td>\n",
       "      <td>Acuerdo 14 de 1983</td>\n",
       "      <td>23933196,086856</td>\n",
       "      <td>07</td>\n",
       "      <td>{'lon': -74.19438893446508, 'lat': 4.621779959...</td>\n",
       "      <td>MULTIPOLYGON (((-74.18567 4.64705, -74.18568 4...</td>\n",
       "      <td>125162</td>\n",
       "    </tr>\n",
       "  </tbody>\n",
       "</table>\n",
       "</div>"
      ],
      "text/plain": [
       "  Nombre de la localidad Acto administrativo de la localidad  \\\n",
       "0            TEUSAQUILLO                   Acuerdo 8 de 1977   \n",
       "1          SAN CRISTOBAL                 Acuerdo 117 de 2003   \n",
       "2                USAQUEN                   Acuerdo 8 de 1977   \n",
       "3             TUNJUELITO                 Acuerdo 117 de 2003   \n",
       "4                   BOSA                  Acuerdo 14 de 1983   \n",
       "\n",
       "  Area de la localidad Identificador unico de la localidad  \\\n",
       "0      14193168,127546                                  13   \n",
       "1       49098548,52917                                  04   \n",
       "2      65315721,646621                                  01   \n",
       "3       9910939,743524                                  06   \n",
       "4      23933196,086856                                  07   \n",
       "\n",
       "                                        geo_point_2d  \\\n",
       "0  {'lon': -74.08576901958143, 'lat': 4.641173586...   \n",
       "1  {'lon': -74.06607256050648, 'lat': 4.548749008...   \n",
       "2  {'lon': -74.02782483459404, 'lat': 4.742092413...   \n",
       "3  {'lon': -74.13598945142014, 'lat': 4.574841398...   \n",
       "4  {'lon': -74.19438893446508, 'lat': 4.621779959...   \n",
       "\n",
       "                                            geometry    CASO  \n",
       "0  MULTIPOLYGON (((-74.09372 4.66607, -74.10342 4...   54761  \n",
       "1  MULTIPOLYGON (((-74.02900 4.55830, -74.02892 4...   70068  \n",
       "2  MULTIPOLYGON (((-74.01089 4.66358, -74.01077 4...  164918  \n",
       "3  MULTIPOLYGON (((-74.13777 4.59489, -74.14043 4...   38740  \n",
       "4  MULTIPOLYGON (((-74.18567 4.64705, -74.18568 4...  125162  "
      ]
     },
     "execution_count": 22,
     "metadata": {},
     "output_type": "execute_result"
    }
   ],
   "source": [
    "casos_por_localidad = bog_map.merge(df_localidades, left_on='Nombre de la localidad',right_on='LOCALIDAD_ASIS')\n",
    "casos_por_localidad.head()"
   ]
  },
  {
   "cell_type": "code",
   "execution_count": 23,
   "metadata": {
    "id": "qdaFGiqbgwgM"
   },
   "outputs": [
    {
     "data": {
      "text/html": [
       "<div>\n",
       "<style scoped>\n",
       "    .dataframe tbody tr th:only-of-type {\n",
       "        vertical-align: middle;\n",
       "    }\n",
       "\n",
       "    .dataframe tbody tr th {\n",
       "        vertical-align: top;\n",
       "    }\n",
       "\n",
       "    .dataframe thead th {\n",
       "        text-align: right;\n",
       "    }\n",
       "</style>\n",
       "<table border=\"1\" class=\"dataframe\">\n",
       "  <thead>\n",
       "    <tr style=\"text-align: right;\">\n",
       "      <th></th>\n",
       "      <th>Nombre de la localidad</th>\n",
       "      <th>Acto administrativo de la localidad</th>\n",
       "      <th>Area de la localidad</th>\n",
       "      <th>Identificador unico de la localidad</th>\n",
       "      <th>geo_point_2d</th>\n",
       "      <th>geometry</th>\n",
       "      <th>CASO</th>\n",
       "    </tr>\n",
       "  </thead>\n",
       "  <tbody>\n",
       "    <tr>\n",
       "      <th>12</th>\n",
       "      <td>SUBA</td>\n",
       "      <td>Acuerdo 8 de 1977</td>\n",
       "      <td>100560477,718254</td>\n",
       "      <td>11</td>\n",
       "      <td>{'lon': -74.0758452755469, 'lat': 4.7632081213...</td>\n",
       "      <td>MULTIPOLYGON (((-74.03450 4.82547, -74.03489 4...</td>\n",
       "      <td>290585</td>\n",
       "    </tr>\n",
       "    <tr>\n",
       "      <th>14</th>\n",
       "      <td>KENNEDY</td>\n",
       "      <td>Acuerdo 8 de 1977</td>\n",
       "      <td>38589733,814235</td>\n",
       "      <td>08</td>\n",
       "      <td>{'lon': -74.15266762383382, 'lat': 4.630347351...</td>\n",
       "      <td>MULTIPOLYGON (((-74.11830 4.63741, -74.11854 4...</td>\n",
       "      <td>225084</td>\n",
       "    </tr>\n",
       "    <tr>\n",
       "      <th>9</th>\n",
       "      <td>ENGATIVA</td>\n",
       "      <td>Acuerdo 8 de 1977</td>\n",
       "      <td>35880967,349154</td>\n",
       "      <td>10</td>\n",
       "      <td>{'lon': -74.113187703298, 'lat': 4.70112556327...</td>\n",
       "      <td>MULTIPOLYGON (((-74.15547 4.71798, -74.15547 4...</td>\n",
       "      <td>205220</td>\n",
       "    </tr>\n",
       "    <tr>\n",
       "      <th>2</th>\n",
       "      <td>USAQUEN</td>\n",
       "      <td>Acuerdo 8 de 1977</td>\n",
       "      <td>65315721,646621</td>\n",
       "      <td>01</td>\n",
       "      <td>{'lon': -74.02782483459404, 'lat': 4.742092413...</td>\n",
       "      <td>MULTIPOLYGON (((-74.01089 4.66358, -74.01077 4...</td>\n",
       "      <td>164918</td>\n",
       "    </tr>\n",
       "    <tr>\n",
       "      <th>4</th>\n",
       "      <td>BOSA</td>\n",
       "      <td>Acuerdo 14 de 1983</td>\n",
       "      <td>23933196,086856</td>\n",
       "      <td>07</td>\n",
       "      <td>{'lon': -74.19438893446508, 'lat': 4.621779959...</td>\n",
       "      <td>MULTIPOLYGON (((-74.18567 4.64705, -74.18568 4...</td>\n",
       "      <td>125162</td>\n",
       "    </tr>\n",
       "  </tbody>\n",
       "</table>\n",
       "</div>"
      ],
      "text/plain": [
       "   Nombre de la localidad Acto administrativo de la localidad  \\\n",
       "12                   SUBA                   Acuerdo 8 de 1977   \n",
       "14                KENNEDY                   Acuerdo 8 de 1977   \n",
       "9                ENGATIVA                   Acuerdo 8 de 1977   \n",
       "2                 USAQUEN                   Acuerdo 8 de 1977   \n",
       "4                    BOSA                  Acuerdo 14 de 1983   \n",
       "\n",
       "   Area de la localidad Identificador unico de la localidad  \\\n",
       "12     100560477,718254                                  11   \n",
       "14      38589733,814235                                  08   \n",
       "9       35880967,349154                                  10   \n",
       "2       65315721,646621                                  01   \n",
       "4       23933196,086856                                  07   \n",
       "\n",
       "                                         geo_point_2d  \\\n",
       "12  {'lon': -74.0758452755469, 'lat': 4.7632081213...   \n",
       "14  {'lon': -74.15266762383382, 'lat': 4.630347351...   \n",
       "9   {'lon': -74.113187703298, 'lat': 4.70112556327...   \n",
       "2   {'lon': -74.02782483459404, 'lat': 4.742092413...   \n",
       "4   {'lon': -74.19438893446508, 'lat': 4.621779959...   \n",
       "\n",
       "                                             geometry    CASO  \n",
       "12  MULTIPOLYGON (((-74.03450 4.82547, -74.03489 4...  290585  \n",
       "14  MULTIPOLYGON (((-74.11830 4.63741, -74.11854 4...  225084  \n",
       "9   MULTIPOLYGON (((-74.15547 4.71798, -74.15547 4...  205220  \n",
       "2   MULTIPOLYGON (((-74.01089 4.66358, -74.01077 4...  164918  \n",
       "4   MULTIPOLYGON (((-74.18567 4.64705, -74.18568 4...  125162  "
      ]
     },
     "execution_count": 23,
     "metadata": {},
     "output_type": "execute_result"
    }
   ],
   "source": [
    "casos_por_localidad  = casos_por_localidad.sort_values(by ='CASO',ascending=False)\n",
    "casos_por_localidad.head()"
   ]
  },
  {
   "cell_type": "code",
   "execution_count": 24,
   "metadata": {
    "id": "8QE9nAi-a7jN"
   },
   "outputs": [
    {
     "data": {
      "text/plain": [
       "<Axes: title={'center': 'Distribución Casos COVID-19 por localidades'}>"
      ]
     },
     "execution_count": 24,
     "metadata": {},
     "output_type": "execute_result"
    },
    {
     "data": {
      "image/png": "[encoded data removed]",
      "text/plain": [
       "<Figure size 3000x1500 with 1 Axes>"
      ]
     },
     "metadata": {},
     "output_type": "display_data"
    }
   ],
   "source": [
    "ax = casos_por_localidad.plot(column='CASO', scheme='QUANTILES',k=6,legend=True,figsize=(30,15))\n",
    "ax.set_title('Distribución Casos COVID-19 por localidades')\n",
    "ax"
   ]
  },
  {
   "cell_type": "markdown",
   "metadata": {},
   "source": [
    "# Diagrama de Barras "
   ]
  },
  {
   "cell_type": "code",
   "execution_count": 100,
   "metadata": {},
   "outputs": [],
   "source": [
    "mask = (df_localidades.index != 'SUMAPAZ') & (df_localidades.index != 'SIN DATO') & (df_localidades.index != 'FUERA DE BOGOTA')\n",
    "df_localidades = df_localidades[mask]"
   ]
  },
  {
   "cell_type": "code",
   "execution_count": 103,
   "metadata": {},
   "outputs": [
    {
     "data": {
      "image/png": "[encoded data removed]",
      "text/plain": [
       "<Figure size 640x480 with 1 Axes>"
      ]
     },
     "metadata": {},
     "output_type": "display_data"
    }
   ],
   "source": [
    "plt.bar(df_localidades.index,df_localidades)\n",
    "plt.xticks(rotation=90)\n",
    "plt.show()"
   ]
  },
  {
   "cell_type": "markdown",
   "metadata": {
    "id": "pZSEWQlufuAB"
   },
   "source": [
    "# Casos con el tiempo"
   ]
  },
  {
   "cell_type": "code",
   "execution_count": 25,
   "metadata": {},
   "outputs": [
    {
     "data": {
      "text/html": [
       "<div>\n",
       "<style scoped>\n",
       "    .dataframe tbody tr th:only-of-type {\n",
       "        vertical-align: middle;\n",
       "    }\n",
       "\n",
       "    .dataframe tbody tr th {\n",
       "        vertical-align: top;\n",
       "    }\n",
       "\n",
       "    .dataframe thead th {\n",
       "        text-align: right;\n",
       "    }\n",
       "</style>\n",
       "<table border=\"1\" class=\"dataframe\">\n",
       "  <thead>\n",
       "    <tr style=\"text-align: right;\">\n",
       "      <th></th>\n",
       "      <th>CASO</th>\n",
       "      <th>FECHA_DIAGNOSTICO</th>\n",
       "      <th>CIUDAD</th>\n",
       "      <th>LOCALIDAD_ASIS</th>\n",
       "      <th>EDAD</th>\n",
       "      <th>UNI_MED</th>\n",
       "      <th>SEXO</th>\n",
       "      <th>FUENTE_O_TIPO_DE_CONTAGIO</th>\n",
       "      <th>UBICACION</th>\n",
       "      <th>ESTADO</th>\n",
       "    </tr>\n",
       "  </thead>\n",
       "  <tbody>\n",
       "    <tr>\n",
       "      <th>0</th>\n",
       "      <td>1</td>\n",
       "      <td>2020-03-06</td>\n",
       "      <td>Bogotá</td>\n",
       "      <td>Usaquén</td>\n",
       "      <td>19</td>\n",
       "      <td>1</td>\n",
       "      <td>F</td>\n",
       "      <td>Importado</td>\n",
       "      <td>Casa</td>\n",
       "      <td>Recuperado</td>\n",
       "    </tr>\n",
       "    <tr>\n",
       "      <th>1</th>\n",
       "      <td>2</td>\n",
       "      <td>2020-03-10</td>\n",
       "      <td>Bogotá</td>\n",
       "      <td>Engativá</td>\n",
       "      <td>22</td>\n",
       "      <td>1</td>\n",
       "      <td>F</td>\n",
       "      <td>Importado</td>\n",
       "      <td>Casa</td>\n",
       "      <td>Recuperado</td>\n",
       "    </tr>\n",
       "    <tr>\n",
       "      <th>2</th>\n",
       "      <td>3</td>\n",
       "      <td>2020-03-10</td>\n",
       "      <td>Bogotá</td>\n",
       "      <td>Engativá</td>\n",
       "      <td>28</td>\n",
       "      <td>1</td>\n",
       "      <td>F</td>\n",
       "      <td>Importado</td>\n",
       "      <td>Casa</td>\n",
       "      <td>Recuperado</td>\n",
       "    </tr>\n",
       "    <tr>\n",
       "      <th>3</th>\n",
       "      <td>4</td>\n",
       "      <td>2020-03-12</td>\n",
       "      <td>Bogotá</td>\n",
       "      <td>Fontibón</td>\n",
       "      <td>36</td>\n",
       "      <td>1</td>\n",
       "      <td>F</td>\n",
       "      <td>Importado</td>\n",
       "      <td>Casa</td>\n",
       "      <td>Recuperado</td>\n",
       "    </tr>\n",
       "    <tr>\n",
       "      <th>4</th>\n",
       "      <td>5</td>\n",
       "      <td>2020-03-12</td>\n",
       "      <td>Bogotá</td>\n",
       "      <td>Kennedy</td>\n",
       "      <td>42</td>\n",
       "      <td>1</td>\n",
       "      <td>F</td>\n",
       "      <td>Importado</td>\n",
       "      <td>Casa</td>\n",
       "      <td>Recuperado</td>\n",
       "    </tr>\n",
       "  </tbody>\n",
       "</table>\n",
       "</div>"
      ],
      "text/plain": [
       "   CASO FECHA_DIAGNOSTICO  CIUDAD LOCALIDAD_ASIS  EDAD  UNI_MED SEXO  \\\n",
       "0     1        2020-03-06  Bogotá        Usaquén    19        1    F   \n",
       "1     2        2020-03-10  Bogotá       Engativá    22        1    F   \n",
       "2     3        2020-03-10  Bogotá       Engativá    28        1    F   \n",
       "3     4        2020-03-12  Bogotá       Fontibón    36        1    F   \n",
       "4     5        2020-03-12  Bogotá        Kennedy    42        1    F   \n",
       "\n",
       "  FUENTE_O_TIPO_DE_CONTAGIO UBICACION      ESTADO  \n",
       "0                 Importado      Casa  Recuperado  \n",
       "1                 Importado      Casa  Recuperado  \n",
       "2                 Importado      Casa  Recuperado  \n",
       "3                 Importado      Casa  Recuperado  \n",
       "4                 Importado      Casa  Recuperado  "
      ]
     },
     "execution_count": 25,
     "metadata": {},
     "output_type": "execute_result"
    }
   ],
   "source": [
    "df.head()"
   ]
  },
  {
   "cell_type": "code",
   "execution_count": 26,
   "metadata": {},
   "outputs": [],
   "source": [
    "df_by_date = df.groupby('FECHA_DIAGNOSTICO').agg([\"count\"])"
   ]
  },
  {
   "cell_type": "code",
   "execution_count": 57,
   "metadata": {},
   "outputs": [
    {
     "data": {
      "text/html": [
       "<div>\n",
       "<style scoped>\n",
       "    .dataframe tbody tr th:only-of-type {\n",
       "        vertical-align: middle;\n",
       "    }\n",
       "\n",
       "    .dataframe tbody tr th {\n",
       "        vertical-align: top;\n",
       "    }\n",
       "\n",
       "    .dataframe thead tr th {\n",
       "        text-align: left;\n",
       "    }\n",
       "\n",
       "    .dataframe thead tr:last-of-type th {\n",
       "        text-align: right;\n",
       "    }\n",
       "</style>\n",
       "<table border=\"1\" class=\"dataframe\">\n",
       "  <thead>\n",
       "    <tr>\n",
       "      <th></th>\n",
       "      <th>CASO</th>\n",
       "      <th>CIUDAD</th>\n",
       "      <th>LOCALIDAD_ASIS</th>\n",
       "      <th>EDAD</th>\n",
       "      <th>UNI_MED</th>\n",
       "      <th>SEXO</th>\n",
       "      <th>FUENTE_O_TIPO_DE_CONTAGIO</th>\n",
       "      <th>UBICACION</th>\n",
       "      <th>ESTADO</th>\n",
       "    </tr>\n",
       "    <tr>\n",
       "      <th></th>\n",
       "      <th>count</th>\n",
       "      <th>count</th>\n",
       "      <th>count</th>\n",
       "      <th>count</th>\n",
       "      <th>count</th>\n",
       "      <th>count</th>\n",
       "      <th>count</th>\n",
       "      <th>count</th>\n",
       "      <th>count</th>\n",
       "    </tr>\n",
       "    <tr>\n",
       "      <th>FECHA_DIAGNOSTICO</th>\n",
       "      <th></th>\n",
       "      <th></th>\n",
       "      <th></th>\n",
       "      <th></th>\n",
       "      <th></th>\n",
       "      <th></th>\n",
       "      <th></th>\n",
       "      <th></th>\n",
       "      <th></th>\n",
       "    </tr>\n",
       "  </thead>\n",
       "  <tbody>\n",
       "    <tr>\n",
       "      <th>2020-03-06</th>\n",
       "      <td>1</td>\n",
       "      <td>1</td>\n",
       "      <td>1</td>\n",
       "      <td>1</td>\n",
       "      <td>1</td>\n",
       "      <td>1</td>\n",
       "      <td>1</td>\n",
       "      <td>1</td>\n",
       "      <td>1</td>\n",
       "    </tr>\n",
       "    <tr>\n",
       "      <th>2020-03-10</th>\n",
       "      <td>2</td>\n",
       "      <td>2</td>\n",
       "      <td>2</td>\n",
       "      <td>2</td>\n",
       "      <td>2</td>\n",
       "      <td>2</td>\n",
       "      <td>2</td>\n",
       "      <td>2</td>\n",
       "      <td>2</td>\n",
       "    </tr>\n",
       "    <tr>\n",
       "      <th>2020-03-12</th>\n",
       "      <td>2</td>\n",
       "      <td>2</td>\n",
       "      <td>2</td>\n",
       "      <td>2</td>\n",
       "      <td>2</td>\n",
       "      <td>2</td>\n",
       "      <td>2</td>\n",
       "      <td>2</td>\n",
       "      <td>2</td>\n",
       "    </tr>\n",
       "    <tr>\n",
       "      <th>2020-03-13</th>\n",
       "      <td>6</td>\n",
       "      <td>6</td>\n",
       "      <td>6</td>\n",
       "      <td>6</td>\n",
       "      <td>6</td>\n",
       "      <td>6</td>\n",
       "      <td>6</td>\n",
       "      <td>6</td>\n",
       "      <td>6</td>\n",
       "    </tr>\n",
       "    <tr>\n",
       "      <th>2020-03-14</th>\n",
       "      <td>4</td>\n",
       "      <td>4</td>\n",
       "      <td>4</td>\n",
       "      <td>4</td>\n",
       "      <td>4</td>\n",
       "      <td>4</td>\n",
       "      <td>4</td>\n",
       "      <td>4</td>\n",
       "      <td>4</td>\n",
       "    </tr>\n",
       "  </tbody>\n",
       "</table>\n",
       "</div>"
      ],
      "text/plain": [
       "                   CASO CIUDAD LOCALIDAD_ASIS  EDAD UNI_MED  SEXO  \\\n",
       "                  count  count          count count   count count   \n",
       "FECHA_DIAGNOSTICO                                                   \n",
       "2020-03-06            1      1              1     1       1     1   \n",
       "2020-03-10            2      2              2     2       2     2   \n",
       "2020-03-12            2      2              2     2       2     2   \n",
       "2020-03-13            6      6              6     6       6     6   \n",
       "2020-03-14            4      4              4     4       4     4   \n",
       "\n",
       "                  FUENTE_O_TIPO_DE_CONTAGIO UBICACION ESTADO  \n",
       "                                      count     count  count  \n",
       "FECHA_DIAGNOSTICO                                             \n",
       "2020-03-06                                1         1      1  \n",
       "2020-03-10                                2         2      2  \n",
       "2020-03-12                                2         2      2  \n",
       "2020-03-13                                6         6      6  \n",
       "2020-03-14                                4         4      4  "
      ]
     },
     "execution_count": 57,
     "metadata": {},
     "output_type": "execute_result"
    }
   ],
   "source": [
    "df_by_date.head()"
   ]
  },
  {
   "cell_type": "markdown",
   "metadata": {},
   "source": [
    "# Pasar columna fecha a tipo fecha"
   ]
  },
  {
   "cell_type": "code",
   "execution_count": 27,
   "metadata": {},
   "outputs": [],
   "source": [
    "from datetime import datetime\n",
    "df_by_date.index = df_by_date.index.map(lambda x:datetime.strptime(x, '%Y-%m-%d') )"
   ]
  },
  {
   "cell_type": "markdown",
   "metadata": {},
   "source": [
    "# Graficar"
   ]
  },
  {
   "cell_type": "code",
   "execution_count": 73,
   "metadata": {},
   "outputs": [
    {
     "data": {
      "image/png": "[encoded data removed]",
      "text/plain": [
       "<Figure size 640x480 with 1 Axes>"
      ]
     },
     "metadata": {},
     "output_type": "display_data"
    }
   ],
   "source": [
    "fig, ax = plt.subplots()\n",
    "plt.xlabel('Tiempo')\n",
    "plt.ylabel('Casos de Covid')\n",
    "plt.title('Nuevos casos de covid reportados vs Tiempo')\n",
    "plt.xticks(rotation=45)\n",
    "plt.plot(df_by_date.index,df_by_date['CASO'])\n",
    "#plt.bar(df_by_date.index,df_by_date['CASO'])\n",
    "plt.show()"
   ]
  },
  {
   "cell_type": "markdown",
   "metadata": {},
   "source": [
    "# Graficas variables cualitativas"
   ]
  },
  {
   "cell_type": "markdown",
   "metadata": {},
   "source": [
    "Vamos a explorar las variables cualitativas con distintas graficas que nos permitan entender los fenomenos del COVID en Bogotá"
   ]
  },
  {
   "cell_type": "markdown",
   "metadata": {},
   "source": [
    "**Sexo**"
   ]
  },
  {
   "cell_type": "code",
   "execution_count": 85,
   "metadata": {},
   "outputs": [
    {
     "data": {
      "image/png": "[encoded data removed]",
      "text/plain": [
       "<Figure size 640x480 with 1 Axes>"
      ]
     },
     "metadata": {},
     "output_type": "display_data"
    }
   ],
   "source": [
    "left = df[df['SEXO'] == 'F'].count()[0]\n",
    "right = df[df['SEXO'] == 'M'].count()[0]\n",
    "\n",
    "labels = ['Femenino', 'Masculino']\n",
    "colors = ['#ca48c0','#00b8ff']\n",
    "plt.pie([left,right], labels = labels, colors=colors, autopct='%.2f %%')\n",
    "plt.title('Sexo de los pacientes')\n",
    "plt.show()"
   ]
  },
  {
   "cell_type": "markdown",
   "metadata": {},
   "source": [
    "**Fuente o tipo de contagio**"
   ]
  },
  {
   "cell_type": "code",
   "execution_count": 113,
   "metadata": {},
   "outputs": [
    {
     "data": {
      "image/png": "[encoded data removed]",
      "text/plain": [
       "<Figure size 640x480 with 1 Axes>"
      ]
     },
     "metadata": {},
     "output_type": "display_data"
    }
   ],
   "source": [
    "plt.hist(df['FUENTE_O_TIPO_DE_CONTAGIO'],align='left')\n",
    "plt.show()"
   ]
  },
  {
   "cell_type": "code",
   "execution_count": null,
   "metadata": {},
   "outputs": [],
   "source": []
  }
 ],
 "metadata": {
  "colab": {
   "provenance": []
  },
  "kernelspec": {
   "display_name": "Python 3 (ipykernel)",
   "language": "python",
   "name": "python3"
  },
  "language_info": {
   "codemirror_mode": {
    "name": "ipython",
    "version": 3
   },
   "file_extension": ".py",
   "mimetype": "text/x-python",
   "name": "python",
   "nbconvert_exporter": "python",
   "pygments_lexer": "ipython3",
   "version": "3.11.2"
  }
 },
 "nbformat": 4,
 "nbformat_minor": 1
}
